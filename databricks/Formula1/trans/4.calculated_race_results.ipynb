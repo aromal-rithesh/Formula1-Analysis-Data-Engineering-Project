{
 "cells": [
  {
   "cell_type": "code",
   "execution_count": 0,
   "metadata": {
    "application/vnd.databricks.v1+cell": {
     "cellMetadata": {
      "byteLimit": 2048000,
      "rowLimit": 10000
     },
     "inputWidgets": {},
     "nuid": "88a985fd-e2ae-4b30-a857-5a2bcb304b71",
     "showTitle": false,
     "tableResultSettingsMap": {},
     "title": ""
    }
   },
   "outputs": [],
   "source": [
    "dbutils.widgets.text(\"p_file_date\",\"2021-03-21\")\n",
    "v_file_date = dbutils.widgets.get(\"p_file_date\")"
   ]
  },
  {
   "cell_type": "code",
   "execution_count": 0,
   "metadata": {
    "application/vnd.databricks.v1+cell": {
     "cellMetadata": {
      "byteLimit": 2048000,
      "rowLimit": 10000
     },
     "inputWidgets": {},
     "nuid": "8802e754-7f5b-497d-a944-de1458e4fbcb",
     "showTitle": false,
     "tableResultSettingsMap": {},
     "title": ""
    }
   },
   "outputs": [],
   "source": [
    "spark.sql(f\"\"\"\n",
    "          CREATE TABLE IF NOT EXISTS f1_presentation.calculated_race_results(\n",
    "              race_year INT, \n",
    "              team_name STRING, \n",
    "              driver_id INT, \n",
    "              driver_name STRING, \n",
    "              race_id INT, \n",
    "              position INT, \n",
    "              points INT, \n",
    "              calculated_points INT, \n",
    "              created_date TIMESTAMP, \n",
    "              updated_date TIMESTAMP\n",
    "          )\n",
    "          USING DELTA\n",
    "          \"\"\")"
   ]
  },
  {
   "cell_type": "code",
   "execution_count": 0,
   "metadata": {
    "application/vnd.databricks.v1+cell": {
     "cellMetadata": {
      "byteLimit": 2048000,
      "rowLimit": 10000
     },
     "inputWidgets": {},
     "nuid": "487e9820-a59b-48e1-b7a0-b52a8050eb21",
     "showTitle": false,
     "tableResultSettingsMap": {},
     "title": ""
    }
   },
   "outputs": [],
   "source": [
    "spark.sql(f\"\"\"\n",
    "CREATE OR REPLACE TEMP VIEW race_result_updated \n",
    "AS \n",
    "SELECT \n",
    "  races.race_year, \n",
    "  constructors.name AS team_name, \n",
    "  drivers.driver_id, \n",
    "  drivers.name AS driver_name, \n",
    "  races.race_id, \n",
    "  results.position, \n",
    "  results.points, \n",
    "  11 - results.position AS calculated_points \n",
    "FROM f1_processed.results \n",
    "JOIN f1_processed.drivers ON drivers.driver_id = results.driver_id \n",
    "JOIN f1_processed.constructors ON constructors.constructor_id = results.constructor_id \n",
    "JOIN f1_processed.races ON races.race_id = results.race_id \n",
    "WHERE results.position <= 10 \n",
    "AND results.file_date = \"{v_file_date}\"\n",
    "\"\"\")"
   ]
  },
  {
   "cell_type": "code",
   "execution_count": 0,
   "metadata": {
    "application/vnd.databricks.v1+cell": {
     "cellMetadata": {
      "byteLimit": 2048000,
      "implicitDf": true,
      "rowLimit": 10000
     },
     "inputWidgets": {},
     "nuid": "0deb5fba-b4f6-49ac-8659-51a0c4312d33",
     "showTitle": false,
     "tableResultSettingsMap": {},
     "title": ""
    }
   },
   "outputs": [],
   "source": [
    "spark.sql(\"\"\"\n",
    "MERGE INTO f1_presentation.calculated_race_results tgt \n",
    "USING race_result_updated upd \n",
    "ON (upd.driver_id = tgt.driver_id AND upd.race_id = tgt.race_id)\n",
    "WHEN MATCHED THEN \n",
    "    UPDATE SET tgt.position = upd.position, \n",
    "               tgt.points = upd.points, \n",
    "               tgt.calculated_points = upd.calculated_points, \n",
    "               tgt.updated_date = current_timestamp \n",
    "WHEN NOT MATCHED THEN \n",
    "    INSERT (race_year, team_name, driver_id, driver_name, race_id, position, points, calculated_points, created_date) \n",
    "    VALUES (race_year, team_name, driver_id, driver_name, race_id, position, points, calculated_points, current_timestamp)\n",
    "\"\"\")"
   ]
  }
 ],
 "metadata": {
  "application/vnd.databricks.v1+notebook": {
   "computePreferences": null,
   "dashboards": [],
   "environmentMetadata": {
    "base_environment": "",
    "environment_version": "2"
   },
   "inputWidgetPreferences": null,
   "language": "python",
   "notebookMetadata": {
    "mostRecentlyExecutedCommandWithImplicitDF": {
     "commandId": 5813114249914773,
     "dataframes": [
      "_sqldf"
     ]
    },
    "pythonIndentUnit": 4
   },
   "notebookName": "4.calculated_race_results",
   "widgets": {
    "p_file_date": {
     "currentValue": "2021-04-18",
     "nuid": "21f86c7a-acac-44ea-97e4-095c091df68b",
     "typedWidgetInfo": {
      "autoCreated": false,
      "defaultValue": "2021-03-21",
      "label": null,
      "name": "p_file_date",
      "options": {
       "widgetDisplayType": "Text",
       "validationRegex": null
      },
      "parameterDataType": "String"
     },
     "widgetInfo": {
      "widgetType": "text",
      "defaultValue": "2021-03-21",
      "label": null,
      "name": "p_file_date",
      "options": {
       "widgetType": "text",
       "autoCreated": null,
       "validationRegex": null
      }
     }
    }
   }
  },
  "language_info": {
   "name": "python"
  }
 },
 "nbformat": 4,
 "nbformat_minor": 0
}
