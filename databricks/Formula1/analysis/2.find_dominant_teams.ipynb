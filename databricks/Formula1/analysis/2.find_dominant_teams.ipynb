{
 "cells": [
  {
   "cell_type": "code",
   "execution_count": 0,
   "metadata": {
    "application/vnd.databricks.v1+cell": {
     "cellMetadata": {
      "byteLimit": 2048000,
      "rowLimit": 10000
     },
     "inputWidgets": {},
     "nuid": "b55399ce-09e4-4a9e-b2eb-1faeda606300",
     "showTitle": false,
     "tableResultSettingsMap": {},
     "title": ""
    }
   },
   "outputs": [],
   "source": [
    "SELECT \n",
    "  team_name, \n",
    "  COUNT(1) AS total_races, \n",
    "  SUM(calculated_points) AS total_points, \n",
    "  AVG(calculated_points) AS avg_points \n",
    "FROM f1_presentation.calculated_race_results \n",
    "GROUP BY team_name \n",
    "HAVING COUNT(1) >= 100 \n",
    "ORDER BY avg_points DESC "
   ]
  },
  {
   "cell_type": "code",
   "execution_count": 0,
   "metadata": {
    "application/vnd.databricks.v1+cell": {
     "cellMetadata": {
      "byteLimit": 2048000,
      "rowLimit": 10000
     },
     "inputWidgets": {},
     "nuid": "5aa7dd34-c250-4e9b-b511-8e67b5711ed0",
     "showTitle": false,
     "tableResultSettingsMap": {},
     "title": ""
    }
   },
   "outputs": [],
   "source": [
    "SELECT \n",
    "  team_name, \n",
    "  COUNT(1) AS total_races, \n",
    "  SUM(calculated_points) AS total_points, \n",
    "  AVG(calculated_points) AS avg_points \n",
    "FROM f1_presentation.calculated_race_results \n",
    "WHERE race_year BETWEEN 2011 AND 2020 \n",
    "GROUP BY team_name \n",
    "HAVING COUNT(1) >= 100 \n",
    "ORDER BY avg_points DESC "
   ]
  },
  {
   "cell_type": "code",
   "execution_count": 0,
   "metadata": {
    "application/vnd.databricks.v1+cell": {
     "cellMetadata": {
      "byteLimit": 2048000,
      "rowLimit": 10000
     },
     "inputWidgets": {},
     "nuid": "d5e0b898-ee61-40bd-8194-c9decbbb1fda",
     "showTitle": false,
     "tableResultSettingsMap": {},
     "title": ""
    }
   },
   "outputs": [],
   "source": [
    "SELECT \n",
    "  team_name, \n",
    "  COUNT(1) AS total_races, \n",
    "  SUM(calculated_points) AS total_points, \n",
    "  AVG(calculated_points) AS avg_points \n",
    "FROM f1_presentation.calculated_race_results \n",
    "WHERE race_year BETWEEN 2001 AND 2011 \n",
    "GROUP BY team_name \n",
    "HAVING COUNT(1) >= 100 \n",
    "ORDER BY avg_points DESC "
   ]
  },
  {
   "cell_type": "code",
   "execution_count": 0,
   "metadata": {
    "application/vnd.databricks.v1+cell": {
     "cellMetadata": {},
     "inputWidgets": {},
     "nuid": "5cbf0fcb-2f1d-441a-8d96-938b1bc329e3",
     "showTitle": false,
     "tableResultSettingsMap": {},
     "title": ""
    }
   },
   "outputs": [],
   "source": []
  }
 ],
 "metadata": {
  "application/vnd.databricks.v1+notebook": {
   "computePreferences": null,
   "dashboards": [],
   "environmentMetadata": {
    "base_environment": "",
    "environment_version": "2"
   },
   "inputWidgetPreferences": null,
   "language": "sql",
   "notebookMetadata": {
    "pythonIndentUnit": 4
   },
   "notebookName": "2.find_dominant_teams",
   "widgets": {}
  },
  "language_info": {
   "name": "sql"
  }
 },
 "nbformat": 4,
 "nbformat_minor": 0
}
