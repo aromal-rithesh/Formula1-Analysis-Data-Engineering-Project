{
 "cells": [
  {
   "cell_type": "code",
   "execution_count": 0,
   "metadata": {
    "application/vnd.databricks.v1+cell": {
     "cellMetadata": {
      "byteLimit": 2048000,
      "rowLimit": 10000
     },
     "inputWidgets": {},
     "nuid": "d1ff0df6-bc10-4133-ab59-72790cd95e34",
     "showTitle": false,
     "tableResultSettingsMap": {
      "0": {
       "dataGridStateBlob": "{\"version\":1,\"tableState\":{\"columnPinning\":{\"left\":[\"#row_number#\"],\"right\":[]},\"columnSizing\":{},\"columnVisibility\":{}},\"settings\":{\"columns\":{}},\"syncTimestamp\":1753011529844}",
       "filterBlob": null,
       "queryPlanFiltersBlob": null,
       "tableResultIndex": 0
      }
     },
     "title": ""
    }
   },
   "outputs": [],
   "source": [
    "SELECT \n",
    "  driver_name, \n",
    "  COUNT(1) AS total_races, \n",
    "  SUM(calculated_points) AS total_points, \n",
    "  AVG(calculated_points) AS avg_points \n",
    "FROM f1_presentation.calculated_race_results \n",
    "GROUP BY driver_name \n",
    "HAVING COUNT(1) >= 50 \n",
    "ORDER BY avg_points DESC "
   ]
  },
  {
   "cell_type": "code",
   "execution_count": 0,
   "metadata": {
    "application/vnd.databricks.v1+cell": {
     "cellMetadata": {
      "byteLimit": 2048000,
      "rowLimit": 10000
     },
     "inputWidgets": {},
     "nuid": "c0ef8d09-6fcb-4e84-ba3a-11ba336e7587",
     "showTitle": false,
     "tableResultSettingsMap": {},
     "title": ""
    }
   },
   "outputs": [],
   "source": [
    "SELECT \n",
    "  driver_name, \n",
    "  COUNT(1) AS total_races, \n",
    "  SUM(calculated_points) AS total_points, \n",
    "  AVG(calculated_points) AS avg_points \n",
    "FROM f1_presentation.calculated_race_results \n",
    "WHERE race_year BETWEEN 2011 AND 2020 \n",
    "GROUP BY driver_name \n",
    "HAVING COUNT(1) >= 50 \n",
    "ORDER BY avg_points DESC "
   ]
  },
  {
   "cell_type": "code",
   "execution_count": 0,
   "metadata": {
    "application/vnd.databricks.v1+cell": {
     "cellMetadata": {
      "byteLimit": 2048000,
      "rowLimit": 10000
     },
     "inputWidgets": {},
     "nuid": "35a7cb9b-2f4f-488b-8529-415dd2b0821b",
     "showTitle": false,
     "tableResultSettingsMap": {},
     "title": ""
    }
   },
   "outputs": [],
   "source": [
    "SELECT \n",
    "  driver_name, \n",
    "  COUNT(1) AS total_races, \n",
    "  SUM(calculated_points) AS total_points, \n",
    "  AVG(calculated_points) AS avg_points \n",
    "FROM f1_presentation.calculated_race_results \n",
    "WHERE race_year BETWEEN 2001 AND 2010 \n",
    "GROUP BY driver_name \n",
    "HAVING COUNT(1) >= 50 \n",
    "ORDER BY avg_points DESC "
   ]
  },
  {
   "cell_type": "code",
   "execution_count": 0,
   "metadata": {
    "application/vnd.databricks.v1+cell": {
     "cellMetadata": {},
     "inputWidgets": {},
     "nuid": "61280b2d-5f15-4da4-b8b2-a901d94c81dd",
     "showTitle": false,
     "tableResultSettingsMap": {},
     "title": ""
    }
   },
   "outputs": [],
   "source": []
  }
 ],
 "metadata": {
  "application/vnd.databricks.v1+notebook": {
   "computePreferences": null,
   "dashboards": [],
   "environmentMetadata": {
    "base_environment": "",
    "environment_version": "2"
   },
   "inputWidgetPreferences": null,
   "language": "sql",
   "notebookMetadata": {
    "pythonIndentUnit": 4
   },
   "notebookName": "0.find_dominant_drivers",
   "widgets": {}
  },
  "language_info": {
   "name": "sql"
  }
 },
 "nbformat": 4,
 "nbformat_minor": 0
}
